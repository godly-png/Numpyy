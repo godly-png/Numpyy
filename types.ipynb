{
 "cells": [
  {
   "cell_type": "code",
   "execution_count": 2,
   "id": "d588fe5c-7572-421c-ab80-d87ee74bb4c6",
   "metadata": {},
   "outputs": [
    {
     "name": "stdout",
     "output_type": "stream",
     "text": [
      "int64\n"
     ]
    }
   ],
   "source": [
    "import numpy as np\n",
    "arr=np.array([1,2,3,4])\n",
    "print(arr.dtype)"
   ]
  },
  {
   "cell_type": "code",
   "execution_count": 4,
   "id": "70fa92a7-1b45-47cc-ab69-efd8a7e99ecc",
   "metadata": {},
   "outputs": [
    {
     "name": "stdout",
     "output_type": "stream",
     "text": [
      "float64\n"
     ]
    }
   ],
   "source": [
    "import numpy as np\n",
    "x=np.array([1.2,3.4,5.6])\n",
    "print(x.dtype)"
   ]
  },
  {
   "cell_type": "code",
   "execution_count": 5,
   "id": "fff0f873-023f-4fa7-94fc-bef019da9407",
   "metadata": {},
   "outputs": [
    {
     "name": "stdout",
     "output_type": "stream",
     "text": [
      "<U6\n"
     ]
    }
   ],
   "source": [
    "import numpy as np\n",
    "x=np.array(['godly','mathew'])\n",
    "print(x.dtype)"
   ]
  },
  {
   "cell_type": "code",
   "execution_count": 7,
   "id": "8344fa16-ca82-4f6b-bfc6-cef8f479c99c",
   "metadata": {},
   "outputs": [
    {
     "name": "stdout",
     "output_type": "stream",
     "text": [
      "int32\n"
     ]
    }
   ],
   "source": [
    "import numpy as np\n",
    "x=np.array([1,2,3,4],dtype='i')\n",
    "print(x.dtype)"
   ]
  },
  {
   "cell_type": "code",
   "execution_count": 9,
   "id": "9ab6c7a0-8b2d-43e9-b160-ddfed83bd553",
   "metadata": {},
   "outputs": [
    {
     "name": "stdout",
     "output_type": "stream",
     "text": [
      "[b'2.3' b'1.5' b'3.4']\n"
     ]
    }
   ],
   "source": [
    "import numpy as np\n",
    "x=np.array([2.3,1.5,3.4],dtype='S')\n",
    "print(x)"
   ]
  },
  {
   "cell_type": "code",
   "execution_count": 12,
   "id": "513b9c55-71a7-4ef4-b1e8-a6e5bfcbecbc",
   "metadata": {},
   "outputs": [
    {
     "name": "stdout",
     "output_type": "stream",
     "text": [
      "[b'(3+4']\n"
     ]
    }
   ],
   "source": [
    "import numpy as np\n",
    "x=np.array([3+4j],dtype='S4')\n",
    "print(x)"
   ]
  },
  {
   "cell_type": "code",
   "execution_count": 25,
   "id": "2b37ebb3-9b18-4739-ace1-ae31eb780315",
   "metadata": {},
   "outputs": [
    {
     "name": "stdout",
     "output_type": "stream",
     "text": [
      "[1 3 5]\n",
      "int32\n"
     ]
    }
   ],
   "source": [
    "import numpy as np\n",
    "x=np.array([1.2,3.4,5.6])\n",
    "newarr=x.astype('i')\n",
    "print(newarr)\n",
    "print(newarr.dtype)"
   ]
  },
  {
   "cell_type": "code",
   "execution_count": 20,
   "id": "87846cfc-f892-4e0c-b2f3-8656b388aa70",
   "metadata": {},
   "outputs": [
    {
     "name": "stdout",
     "output_type": "stream",
     "text": [
      "[1 2 3 4]\n",
      "int32\n"
     ]
    }
   ],
   "source": [
    "import numpy as np\n",
    "x=np.array([1,2,3,4,5,6])\n",
    "newarr=arr.astype('i')\n",
    "# newarr=arr.astype('f')\n",
    "# newarr=arr.astype('S')\n",
    "print(newarr)\n",
    "print(newarr.dtype)"
   ]
  },
  {
   "cell_type": "code",
   "execution_count": 22,
   "id": "b53767aa-03e5-4da5-bcf5-748aee55e9bd",
   "metadata": {},
   "outputs": [
    {
     "name": "stdout",
     "output_type": "stream",
     "text": [
      "[23  3  5]\n",
      "[2 3 5]\n"
     ]
    }
   ],
   "source": [
    "import numpy as np\n",
    "arr=np.array([2,3,5,])\n",
    "x=arr.copy()\n",
    "arr[0]=23\n",
    "print(arr)\n",
    "print(x)"
   ]
  },
  {
   "cell_type": "code",
   "execution_count": 24,
   "id": "07f63992-3cb8-42ab-9663-76d794794ff5",
   "metadata": {},
   "outputs": [
    {
     "name": "stdout",
     "output_type": "stream",
     "text": [
      "[23 24  5]\n",
      "[3.4 5.6]\n"
     ]
    }
   ],
   "source": [
    "import numpy as np\n",
    "x=np.array([3.4,5.6])\n",
    "x1=arr.copy()\n",
    "arr[1]=24\n",
    "print(arr)\n",
    "print(x)"
   ]
  },
  {
   "cell_type": "code",
   "execution_count": 27,
   "id": "1f18c9bf-88b7-4a06-8c2a-c34a5790bd94",
   "metadata": {},
   "outputs": [
    {
     "name": "stdout",
     "output_type": "stream",
     "text": [
      "[23 24  5]\n",
      "[23 24  5]\n"
     ]
    }
   ],
   "source": [
    "import numpy as np\n",
    "x=arr.view()\n",
    "arr[0]=23\n",
    "print(arr)\n",
    "print(x)"
   ]
  },
  {
   "cell_type": "code",
   "execution_count": 30,
   "id": "6da2b131-7641-47fe-b5bb-445f10461842",
   "metadata": {},
   "outputs": [
    {
     "name": "stdout",
     "output_type": "stream",
     "text": [
      "arr: [ 1 23 33  4]\n",
      "x  : [ 1 23 33  4]\n"
     ]
    }
   ],
   "source": [
    "import numpy as np\n",
    "arr = np.array([1, 2, 3, 4])\n",
    "x = arr.view() \n",
    "arr[1:3] = [23, 33]\n",
    "print(\"arr:\", arr)\n",
    "print(\"x  :\", x)\n"
   ]
  },
  {
   "cell_type": "code",
   "execution_count": 32,
   "id": "2aba7111-fc54-4ec3-a2c4-0c408a5b3eb1",
   "metadata": {},
   "outputs": [
    {
     "name": "stdout",
     "output_type": "stream",
     "text": [
      "(2, 4)\n"
     ]
    }
   ],
   "source": [
    "import numpy as np\n",
    "x=np.array([[2,3,4,5],[1,7,6,9]])\n",
    "print(x.shape)"
   ]
  },
  {
   "cell_type": "code",
   "execution_count": 34,
   "id": "52d7985c-b045-442d-aae0-eca3eec16eeb",
   "metadata": {},
   "outputs": [
    {
     "name": "stdout",
     "output_type": "stream",
     "text": [
      "[[1 2 3]\n",
      " [4 5 6]\n",
      " [5 1 2]\n",
      " [3 4 5]]\n"
     ]
    }
   ],
   "source": [
    "import numpy as np\n",
    "arr=np.array([1,2,3,4,5,6,5,1,2,3,4,5])\n",
    "newarr=arr.reshape(4,3)\n",
    "print(newarr)"
   ]
  },
  {
   "cell_type": "code",
   "execution_count": null,
   "id": "dfedec01-0b42-4da5-a29e-794e2ae0b5e3",
   "metadata": {},
   "outputs": [],
   "source": [
    "import numpy as np\n",
    "arr=np.array([1,2,3,4,5,6,7,8,9,10,11,12])\n",
    "newarr=arr.reshape("
   ]
  }
 ],
 "metadata": {
  "kernelspec": {
   "display_name": "Python [conda env:base] *",
   "language": "python",
   "name": "conda-base-py"
  },
  "language_info": {
   "codemirror_mode": {
    "name": "ipython",
    "version": 3
   },
   "file_extension": ".py",
   "mimetype": "text/x-python",
   "name": "python",
   "nbconvert_exporter": "python",
   "pygments_lexer": "ipython3",
   "version": "3.13.5"
  }
 },
 "nbformat": 4,
 "nbformat_minor": 5
}
